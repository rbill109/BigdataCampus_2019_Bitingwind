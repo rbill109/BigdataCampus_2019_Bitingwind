{
 "cells": [
  {
   "cell_type": "code",
   "execution_count": 1,
   "metadata": {},
   "outputs": [],
   "source": [
    "import geopandas as gpd\n",
    "import pandas as pd\n",
    "import numpy as np"
   ]
  },
  {
   "cell_type": "markdown",
   "metadata": {},
   "source": [
    "# cf.) shp 파일 csv 파일로 가공하는 방법"
   ]
  },
  {
   "cell_type": "code",
   "execution_count": null,
   "metadata": {
    "collapsed": true,
    "jupyter": {
     "outputs_hidden": true
    }
   },
   "outputs": [],
   "source": [
    "sp = gpd.read_file('C:/빅캠공모전/data/2014년하/TL_SPBD_BULD.shp')"
   ]
  },
  {
   "cell_type": "code",
   "execution_count": null,
   "metadata": {},
   "outputs": [],
   "source": [
    "sp.iloc[:,0:37].head()"
   ]
  },
  {
   "cell_type": "code",
   "execution_count": null,
   "metadata": {},
   "outputs": [],
   "source": [
    "sp.iloc[:,0:37].to_csv('2014_shp.csv',encoding=\"euc-kr\")"
   ]
  },
  {
   "cell_type": "code",
   "execution_count": null,
   "metadata": {},
   "outputs": [],
   "source": [
    "sp_2 = gpd.read_file('C:/빅캠공모전/data/2015년상/TL_SPBD_BULD.shp')"
   ]
  },
  {
   "cell_type": "code",
   "execution_count": null,
   "metadata": {},
   "outputs": [],
   "source": [
    "sp_2.iloc[:,0:36].to_csv('2015_shp.csv',encoding=\"utf-8\")"
   ]
  },
  {
   "cell_type": "code",
   "execution_count": null,
   "metadata": {},
   "outputs": [],
   "source": [
    "sp_3 = gpd.read_file('C:/빅캠공모전/data/2016년상/TL_SPBD_BULD.shp')"
   ]
  },
  {
   "cell_type": "code",
   "execution_count": null,
   "metadata": {},
   "outputs": [],
   "source": [
    "sp_3.iloc[:,0:36].to_csv('2016_shp.csv',encoding=\"euc-kr\")"
   ]
  },
  {
   "cell_type": "markdown",
   "metadata": {},
   "source": [
    "# 전처리 목록\n",
    "\n",
    "A. shp 파일에서 고층(6층 이상)/초고층(20층 이상) 건물 뽑아 가공하여 shp파일로 저장\n",
    "B. X,Y 값을 위경도 값으로 반환하여 저장"
   ]
  },
  {
   "cell_type": "code",
   "execution_count": 2,
   "metadata": {
    "scrolled": true
   },
   "outputs": [
    {
     "name": "stdout",
     "output_type": "stream",
     "text": [
      "<class 'geopandas.geodataframe.GeoDataFrame'>\n",
      "RangeIndex: 654595 entries, 0 to 654594\n",
      "Data columns (total 37 columns):\n",
      "BDTYP_CD      654595 non-null object\n",
      "BD_MGT_SN     654595 non-null object\n",
      "BSI_INT_SN    654595 non-null float64\n",
      "BSI_ZON_NO    654595 non-null object\n",
      "BULD_MNNM     654595 non-null int64\n",
      "BULD_NM       115369 non-null object\n",
      "BULD_NM_DC    50664 non-null object\n",
      "BULD_SE_CD    654595 non-null object\n",
      "BULD_SLNO     654595 non-null int64\n",
      "BUL_DPN_SE    654595 non-null object\n",
      "BUL_MAN_NO    654595 non-null int64\n",
      "EMD_CD        654595 non-null object\n",
      "GRO_FLO_CO    654595 non-null int64\n",
      "LI_CD         654595 non-null object\n",
      "LNBR_MNNM     654595 non-null int64\n",
      "LNBR_SLNO     654595 non-null int64\n",
      "MNTN_YN       654595 non-null object\n",
      "RN_CD         654595 non-null object\n",
      "SIG_CD        654595 non-null object\n",
      "UND_FLO_CO    654595 non-null int64\n",
      "ZIP           0 non-null object\n",
      "X_AXIS        654595 non-null int64\n",
      "Y_AXIS        654595 non-null int64\n",
      "HOUS_ID       654595 non-null object\n",
      "TOTAL_AREA    654595 non-null float64\n",
      "ADMI_CD       654595 non-null object\n",
      "BLK_CD        654595 non-null object\n",
      "OA_CD         654595 non-null object\n",
      "FL_UP_NEW     654595 non-null int64\n",
      "FL_DN_NEW     654595 non-null int64\n",
      "USE_CD_NEW    654595 non-null object\n",
      "XMIN          654595 non-null int64\n",
      "YMIN          654595 non-null int64\n",
      "XMAX          654595 non-null int64\n",
      "YMAX          654595 non-null int64\n",
      "SHAPE_AREA    654595 non-null float64\n",
      "geometry      654595 non-null geometry\n",
      "dtypes: float64(3), geometry(1), int64(15), object(18)\n",
      "memory usage: 184.8+ MB\n"
     ]
    }
   ],
   "source": [
    "# 데이터 확인\n",
    "data = gpd.read_file(\"../data/2014_building/2016/TL_SPBD_BULD.shp\",encoding=\"euc-kr\")\n",
    "data.info()"
   ]
  },
  {
   "cell_type": "markdown",
   "metadata": {},
   "source": [
    "# A. 고층/초고층 빌딩 뽑아내기"
   ]
  },
  {
   "cell_type": "code",
   "execution_count": 4,
   "metadata": {},
   "outputs": [
    {
     "name": "stdout",
     "output_type": "stream",
     "text": [
      "고층빌딩 데이터 수 :  40797\n",
      "초고층빌딩 데이터 수 : 4542\n"
     ]
    }
   ],
   "source": [
    "# 6층 이상 빌딩 : 고층빌딩으로 저장\n",
    "high_bld = data[data.GRO_FLO_CO >= 6]\n",
    "print(\"고층빌딩 데이터 수 : \",len(high_bld))\n",
    "\n",
    "# 20층 이상 빌딩 : 초고층빌딩으로 저장\n",
    "ext_high_bld = data[data.GRO_FLO_CO >= 20]\n",
    "print(\"초고층빌딩 데이터 수 :\",len(ext_high_bld))\n",
    "\n",
    "# 각 정보 저장하기\n",
    "# high_bld.to_file(\"../data/buildings/high_buildings_over6.shp\",encoding=\"euc-kr\")\n",
    "# ext_high_bld.to_file(\"../data/buildings/extreme_high_buildings_over20.shp\",encoding=\"euc-kr\")"
   ]
  },
  {
   "cell_type": "markdown",
   "metadata": {},
   "source": [
    "# B. X,Y 값 위경도 값으로 변환"
   ]
  },
  {
   "cell_type": "code",
   "execution_count": 6,
   "metadata": {},
   "outputs": [
    {
     "data": {
      "text/plain": [
       "Index(['BDTYP_CD', 'BD_MGT_SN', 'BSI_INT_SN', 'BSI_ZON_NO', 'BULD_MNNM',\n",
       "       'BULD_NM', 'BULD_NM_DC', 'BULD_SE_CD', 'BULD_SLNO', 'BUL_DPN_SE',\n",
       "       'BUL_MAN_NO', 'EMD_CD', 'GRO_FLO_CO', 'LI_CD', 'LNBR_MNNM', 'LNBR_SLNO',\n",
       "       'MNTN_YN', 'RN_CD', 'SIG_CD', 'UND_FLO_CO', 'ZIP', 'X_AXIS', 'Y_AXIS',\n",
       "       'HOUS_ID', 'TOTAL_AREA', 'ADMI_CD', 'BLK_CD', 'OA_CD', 'FL_UP_NEW',\n",
       "       'FL_DN_NEW', 'USE_CD_NEW', 'XMIN', 'YMIN', 'XMAX', 'YMAX', 'SHAPE_AREA',\n",
       "       'geometry'],\n",
       "      dtype='object')"
      ]
     },
     "execution_count": 6,
     "metadata": {},
     "output_type": "execute_result"
    }
   ],
   "source": [
    "high_bld = high_bld.reset_index()\n",
    "del high_bld[\"index\"]\n",
    "high_bld.columns"
   ]
  },
  {
   "cell_type": "code",
   "execution_count": 7,
   "metadata": {},
   "outputs": [],
   "source": [
    "from pyproj import Proj, transform\n",
    "\n",
    "# Projection 정의\n",
    "# EPSG 5181\n",
    "proj_EPSG = Proj(init='epsg:5181') # 한국형 좌표계\n",
    "# WGS 84\n",
    "proj_WGS = Proj(init='epsg:4326') # GPS사용 전지구 좌표\n",
    "\n",
    "# EPSG 5181 -> WGS 84\n",
    "x_list = []\n",
    "y_list = []\n",
    "x_max_list = []\n",
    "y_max_list = []\n",
    "x_min_list = []\n",
    "y_min_list = []\n",
    "for n in range(0,len(high_bld.index)) :\n",
    "    x = high_bld.X_AXIS[n]\n",
    "    y = high_bld.Y_AXIS[n]\n",
    "    x_max = high_bld.XMAX[n]\n",
    "    y_max = high_bld.YMAX[n]\n",
    "    x_min = high_bld.XMIN[n]\n",
    "    y_min = high_bld.YMIN[n]\n",
    "    \n",
    "    x_new, y_new = transform(proj_EPSG, proj_WGS, x, y)\n",
    "    x_mx_new, y_mx_new = transform(proj_EPSG, proj_WGS, x_max, y_max)\n",
    "    x_mn_new, y_mn_new = transform(proj_EPSG, proj_WGS, x_min, y_min)\n",
    "    \n",
    "    x_list.append(x_new)\n",
    "    y_list.append(y_new)\n",
    "    x_max_list.append(x_mx_new)\n",
    "    y_max_list.append(y_mx_new)\n",
    "    x_min_list.append(x_mn_new)\n",
    "    y_min_list.append(y_mn_new)"
   ]
  },
  {
   "cell_type": "code",
   "execution_count": 8,
   "metadata": {},
   "outputs": [
    {
     "name": "stdout",
     "output_type": "stream",
     "text": [
      "변환된 x좌표 :  [126.9874012202516, 126.9776552721847, 126.97631905287506, 126.97574159005306, 126.97617178399923, 126.97783539920908, 126.97829949911758, 126.97780121984803, 126.97818606228334, 126.97520858710062] ...\n",
      "변환된 y좌표 :  [37.5707988510621, 37.569869383494456, 37.571499924507684, 37.571977334680746, 37.57185128298034, 37.57319408961611, 37.573266255431584, 37.57393289897596, 37.5740771298813, 37.574905457282604] ...\n"
     ]
    }
   ],
   "source": [
    "# 좌표 변환 내용 확인\n",
    "print(\"변환된 x좌표 : \", x_list[0:10], \"...\")\n",
    "print(\"변환된 y좌표 : \", y_list[0:10], \"...\")"
   ]
  },
  {
   "cell_type": "code",
   "execution_count": 9,
   "metadata": {},
   "outputs": [
    {
     "data": {
      "text/html": [
       "<div>\n",
       "<style scoped>\n",
       "    .dataframe tbody tr th:only-of-type {\n",
       "        vertical-align: middle;\n",
       "    }\n",
       "\n",
       "    .dataframe tbody tr th {\n",
       "        vertical-align: top;\n",
       "    }\n",
       "\n",
       "    .dataframe thead th {\n",
       "        text-align: right;\n",
       "    }\n",
       "</style>\n",
       "<table border=\"1\" class=\"dataframe\">\n",
       "  <thead>\n",
       "    <tr style=\"text-align: right;\">\n",
       "      <th></th>\n",
       "      <th>BDTYP_CD</th>\n",
       "      <th>BD_MGT_SN</th>\n",
       "      <th>BSI_INT_SN</th>\n",
       "      <th>BSI_ZON_NO</th>\n",
       "      <th>BULD_MNNM</th>\n",
       "      <th>BULD_NM</th>\n",
       "      <th>BULD_NM_DC</th>\n",
       "      <th>BULD_SE_CD</th>\n",
       "      <th>BULD_SLNO</th>\n",
       "      <th>BUL_DPN_SE</th>\n",
       "      <th>...</th>\n",
       "      <th>XMAX</th>\n",
       "      <th>YMAX</th>\n",
       "      <th>SHAPE_AREA</th>\n",
       "      <th>geometry</th>\n",
       "      <th>lat_center</th>\n",
       "      <th>lon_center</th>\n",
       "      <th>lat_max</th>\n",
       "      <th>lon_max</th>\n",
       "      <th>lat_min</th>\n",
       "      <th>lon_min</th>\n",
       "    </tr>\n",
       "  </thead>\n",
       "  <tbody>\n",
       "    <tr>\n",
       "      <td>0</td>\n",
       "      <td>04999</td>\n",
       "      <td>1111013600100750001031868</td>\n",
       "      <td>16388.0</td>\n",
       "      <td>03164</td>\n",
       "      <td>405</td>\n",
       "      <td>태영빌딩</td>\n",
       "      <td>None</td>\n",
       "      <td>0</td>\n",
       "      <td>0</td>\n",
       "      <td>M</td>\n",
       "      <td>...</td>\n",
       "      <td>198891</td>\n",
       "      <td>452372</td>\n",
       "      <td>99.92</td>\n",
       "      <td>POLYGON ((198890.769 452356.798, 198882.411 45...</td>\n",
       "      <td>37.570799</td>\n",
       "      <td>126.987401</td>\n",
       "      <td>37.570889</td>\n",
       "      <td>126.987446</td>\n",
       "      <td>37.570736</td>\n",
       "      <td>126.987333</td>\n",
       "    </tr>\n",
       "    <tr>\n",
       "      <td>1</td>\n",
       "      <td>10203</td>\n",
       "      <td>1111011900101390008017955</td>\n",
       "      <td>13091.0</td>\n",
       "      <td>03187</td>\n",
       "      <td>152</td>\n",
       "      <td>일민미술관</td>\n",
       "      <td>None</td>\n",
       "      <td>0</td>\n",
       "      <td>0</td>\n",
       "      <td>M</td>\n",
       "      <td>...</td>\n",
       "      <td>198035</td>\n",
       "      <td>452277</td>\n",
       "      <td>563.59</td>\n",
       "      <td>POLYGON ((198024.977 452242.470, 198024.924 45...</td>\n",
       "      <td>37.569869</td>\n",
       "      <td>126.977655</td>\n",
       "      <td>37.570032</td>\n",
       "      <td>126.977757</td>\n",
       "      <td>37.569689</td>\n",
       "      <td>126.977553</td>\n",
       "    </tr>\n",
       "    <tr>\n",
       "      <td>2</td>\n",
       "      <td>06999</td>\n",
       "      <td>1111011900101570004028349</td>\n",
       "      <td>13100.0</td>\n",
       "      <td>03183</td>\n",
       "      <td>169</td>\n",
       "      <td>None</td>\n",
       "      <td>None</td>\n",
       "      <td>0</td>\n",
       "      <td>0</td>\n",
       "      <td>M</td>\n",
       "      <td>...</td>\n",
       "      <td>197912</td>\n",
       "      <td>452448</td>\n",
       "      <td>119.92</td>\n",
       "      <td>POLYGON ((197911.915 452447.747, 197911.966 45...</td>\n",
       "      <td>37.571500</td>\n",
       "      <td>126.976319</td>\n",
       "      <td>37.571572</td>\n",
       "      <td>126.976364</td>\n",
       "      <td>37.571419</td>\n",
       "      <td>126.976251</td>\n",
       "    </tr>\n",
       "    <tr>\n",
       "      <td>3</td>\n",
       "      <td>10101</td>\n",
       "      <td>1111011900100810003027702</td>\n",
       "      <td>13103.0</td>\n",
       "      <td>03172</td>\n",
       "      <td>175</td>\n",
       "      <td>None</td>\n",
       "      <td>세종문화회관</td>\n",
       "      <td>0</td>\n",
       "      <td>0</td>\n",
       "      <td>M</td>\n",
       "      <td>...</td>\n",
       "      <td>197882</td>\n",
       "      <td>452528</td>\n",
       "      <td>2412.80</td>\n",
       "      <td>POLYGON ((197870.363 452527.038, 197871.111 45...</td>\n",
       "      <td>37.571977</td>\n",
       "      <td>126.975742</td>\n",
       "      <td>37.572293</td>\n",
       "      <td>126.976024</td>\n",
       "      <td>37.571698</td>\n",
       "      <td>126.975515</td>\n",
       "    </tr>\n",
       "    <tr>\n",
       "      <td>4</td>\n",
       "      <td>10101</td>\n",
       "      <td>1111011900100810003027269</td>\n",
       "      <td>13103.0</td>\n",
       "      <td>03172</td>\n",
       "      <td>175</td>\n",
       "      <td>None</td>\n",
       "      <td>세종문화회관</td>\n",
       "      <td>0</td>\n",
       "      <td>0</td>\n",
       "      <td>M</td>\n",
       "      <td>...</td>\n",
       "      <td>197910</td>\n",
       "      <td>452497</td>\n",
       "      <td>848.10</td>\n",
       "      <td>POLYGON ((197898.141 452496.288, 197898.291 45...</td>\n",
       "      <td>37.571851</td>\n",
       "      <td>126.976172</td>\n",
       "      <td>37.572013</td>\n",
       "      <td>126.976342</td>\n",
       "      <td>37.571698</td>\n",
       "      <td>126.976002</td>\n",
       "    </tr>\n",
       "  </tbody>\n",
       "</table>\n",
       "<p>5 rows × 43 columns</p>\n",
       "</div>"
      ],
      "text/plain": [
       "  BDTYP_CD                  BD_MGT_SN  BSI_INT_SN BSI_ZON_NO  BULD_MNNM  \\\n",
       "0    04999  1111013600100750001031868     16388.0      03164        405   \n",
       "1    10203  1111011900101390008017955     13091.0      03187        152   \n",
       "2    06999  1111011900101570004028349     13100.0      03183        169   \n",
       "3    10101  1111011900100810003027702     13103.0      03172        175   \n",
       "4    10101  1111011900100810003027269     13103.0      03172        175   \n",
       "\n",
       "  BULD_NM BULD_NM_DC BULD_SE_CD  BULD_SLNO BUL_DPN_SE  ...    XMAX    YMAX  \\\n",
       "0    태영빌딩       None          0          0          M  ...  198891  452372   \n",
       "1   일민미술관       None          0          0          M  ...  198035  452277   \n",
       "2    None       None          0          0          M  ...  197912  452448   \n",
       "3    None     세종문화회관          0          0          M  ...  197882  452528   \n",
       "4    None     세종문화회관          0          0          M  ...  197910  452497   \n",
       "\n",
       "   SHAPE_AREA                                           geometry  lat_center  \\\n",
       "0       99.92  POLYGON ((198890.769 452356.798, 198882.411 45...   37.570799   \n",
       "1      563.59  POLYGON ((198024.977 452242.470, 198024.924 45...   37.569869   \n",
       "2      119.92  POLYGON ((197911.915 452447.747, 197911.966 45...   37.571500   \n",
       "3     2412.80  POLYGON ((197870.363 452527.038, 197871.111 45...   37.571977   \n",
       "4      848.10  POLYGON ((197898.141 452496.288, 197898.291 45...   37.571851   \n",
       "\n",
       "   lon_center    lat_max     lon_max    lat_min     lon_min  \n",
       "0  126.987401  37.570889  126.987446  37.570736  126.987333  \n",
       "1  126.977655  37.570032  126.977757  37.569689  126.977553  \n",
       "2  126.976319  37.571572  126.976364  37.571419  126.976251  \n",
       "3  126.975742  37.572293  126.976024  37.571698  126.975515  \n",
       "4  126.976172  37.572013  126.976342  37.571698  126.976002  \n",
       "\n",
       "[5 rows x 43 columns]"
      ]
     },
     "execution_count": 9,
     "metadata": {},
     "output_type": "execute_result"
    }
   ],
   "source": [
    "# 데이터 프레임에 추가하기\n",
    "high_bld[\"lat_center\"] = pd.DataFrame(y_list)\n",
    "high_bld[\"lon_center\"] = pd.DataFrame(x_list)\n",
    "high_bld[\"lat_max\"] = pd.DataFrame(y_max_list)\n",
    "high_bld[\"lon_max\"] = pd.DataFrame(x_max_list) \n",
    "high_bld[\"lat_min\"] = pd.DataFrame(y_min_list) \n",
    "high_bld[\"lon_min\"] = pd.DataFrame(x_min_list) \n",
    "\n",
    "#확인\n",
    "high_bld.head()"
   ]
  },
  {
   "cell_type": "code",
   "execution_count": null,
   "metadata": {},
   "outputs": [],
   "source": [
    "# 고층 빌딩 변환값 저장\n",
    "high_bld.to_file(\"../data/buildings/high_bld_over6_include_latlon.shp\",encoding=\"euc-kr\")\n",
    "\n",
    "# 초고층 빌딩 변환값 저장\n",
    "high_bld[high_bld.GRO_FLO_CO >= 20].to_file(\"../data/buildings/high_bld_over20_include_latlon.shp\",encoding=\"euc-kr\")"
   ]
  }
 ],
 "metadata": {
  "kernelspec": {
   "display_name": "Python 3",
   "language": "python",
   "name": "python3"
  },
  "language_info": {
   "codemirror_mode": {
    "name": "ipython",
    "version": 3
   },
   "file_extension": ".py",
   "mimetype": "text/x-python",
   "name": "python",
   "nbconvert_exporter": "python",
   "pygments_lexer": "ipython3",
   "version": "3.6.10"
  }
 },
 "nbformat": 4,
 "nbformat_minor": 4
}
